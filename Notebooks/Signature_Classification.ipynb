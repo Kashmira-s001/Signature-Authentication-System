{
  "cells": [
    {
      "cell_type": "markdown",
      "metadata": {
        "id": "iU3Oj5vlNM58"
      },
      "source": [
        "<h1>Code\n",
        "\n",
        "<h3>What this does:\n",
        "\n",
        "1. Backbone: ResNet18 frozen (can later fine-tune deeper\n",
        "layers)\n",
        "\n",
        "2. Outputs: Person ID (multi-class) + Forgery (binary)\n",
        "\n",
        "3. Training: combined loss (person_loss + forgery_loss)\n",
        "\n",
        "4. History tracking: separate curves for both tasks\n",
        "\n",
        "5. Evaluation: confusion matrix + classification report for forgery"
      ]
    },
    {
      "cell_type": "code",
      "execution_count": null,
      "metadata": {
        "id": "DOFP8zSqTV6g"
      },
      "outputs": [],
      "source": [
        "import os\n",
        "import pandas as pd\n",
        "from PIL import Image\n",
        "import torch\n",
        "from torch.utils.data import Dataset, DataLoader\n",
        "import torchvision.transforms as transforms\n",
        "import torchvision.models as models\n",
        "import torch.nn as nn\n",
        "import torch.optim as optim\n",
        "from sklearn.model_selection import train_test_split\n",
        "from sklearn.metrics import confusion_matrix, classification_report, ConfusionMatrixDisplay\n",
        "import matplotlib.pyplot as plt"
      ]
    },
    {
      "cell_type": "code",
      "execution_count": null,
      "metadata": {
        "id": "0y21zbXlTYx-"
      },
      "outputs": [],
      "source": [
        "# =====================\n",
        "# CONFIG\n",
        "# =====================\n",
        "DATA_DIR = \"data/images\"\n",
        "CSV_FILE = \"data/metadata.csv\"\n",
        "BATCH_SIZE = 32\n",
        "IMG_SIZE = 224\n",
        "EPOCHS = 20\n",
        "LR = 1e-4\n",
        "NUM_PERSONS = 55  # adjust based on your dataset\n",
        "\n",
        "device = torch.device(\"cuda\" if torch.cuda.is_available() else \"cpu\")"
      ]
    },
    {
      "cell_type": "code",
      "execution_count": null,
      "metadata": {
        "id": "JgtiasOATdyt"
      },
      "outputs": [],
      "source": [
        "# =====================\n",
        "# DATASET\n",
        "# =====================\n",
        "class SignatureDatasetMulti(Dataset):\n",
        "    def __init__(self, dataframe, img_dir, transform=None):\n",
        "        self.data = dataframe.reset_index(drop=True)\n",
        "        self.img_dir = img_dir\n",
        "        self.transform = transform\n",
        "\n",
        "    def __len__(self):\n",
        "        return len(self.data)\n",
        "\n",
        "    def __getitem__(self, idx):\n",
        "        row = self.data.iloc[idx]\n",
        "        img_path = os.path.join(self.img_dir, row[\"filename\"])\n",
        "        image = Image.open(img_path).convert(\"RGB\")\n",
        "        person_label = torch.tensor(row[\"person_id\"]-1, dtype=torch.long)  # 0-indexed\n",
        "        forgery_label = torch.tensor(row[\"is_genuine\"], dtype=torch.long)\n",
        "        if self.transform:\n",
        "            image = self.transform(image)\n",
        "        return image, person_label, forgery_label"
      ]
    },
    {
      "cell_type": "code",
      "execution_count": null,
      "metadata": {
        "id": "iUXvHbJ-Thuk"
      },
      "outputs": [],
      "source": [
        "# =====================\n",
        "# TRANSFORMS\n",
        "# =====================\n",
        "train_transform = transforms.Compose([\n",
        "    transforms.Resize((IMG_SIZE, IMG_SIZE)),\n",
        "    transforms.RandomRotation(5),\n",
        "    transforms.RandomAffine(0, translate=(0.05, 0.05)),\n",
        "    transforms.ColorJitter(brightness=0.1, contrast=0.1),\n",
        "    transforms.ToTensor(),\n",
        "    transforms.Normalize([0.485, 0.456, 0.406],\n",
        "                         [0.229, 0.224, 0.225])\n",
        "])\n",
        "\n",
        "val_transform = transforms.Compose([\n",
        "    transforms.Resize((IMG_SIZE, IMG_SIZE)),\n",
        "    transforms.ToTensor(),\n",
        "    transforms.Normalize([0.485, 0.456, 0.406],\n",
        "                         [0.229, 0.224, 0.225])\n",
        "])"
      ]
    },
    {
      "cell_type": "code",
      "execution_count": null,
      "metadata": {
        "colab": {
          "base_uri": "https://localhost:8080/"
        },
        "id": "NbE5uAWHTuP3",
        "outputId": "a626220e-135d-40bd-8a7a-eac86484903a"
      },
      "outputs": [
        {
          "name": "stdout",
          "output_type": "stream",
          "text": [
            "Train samples: 2112, Val samples: 528\n"
          ]
        }
      ],
      "source": [
        "# =====================\n",
        "# LOAD DATA\n",
        "# =====================\n",
        "df = pd.read_csv(CSV_FILE)\n",
        "train_df, val_df = train_test_split(df, test_size=0.2, stratify=df[\"person_id\"], random_state=42)\n",
        "\n",
        "train_dataset = SignatureDatasetMulti(train_df, DATA_DIR, transform=train_transform)\n",
        "val_dataset = SignatureDatasetMulti(val_df, DATA_DIR, transform=val_transform)\n",
        "\n",
        "train_loader = DataLoader(train_dataset, batch_size=BATCH_SIZE, shuffle=True)\n",
        "val_loader = DataLoader(val_dataset, batch_size=BATCH_SIZE, shuffle=False)\n",
        "\n",
        "print(f\"Train samples: {len(train_dataset)}, Val samples: {len(val_dataset)}\")"
      ]
    },
    {
      "cell_type": "code",
      "execution_count": null,
      "metadata": {
        "id": "3-13bd5cT0ka"
      },
      "outputs": [],
      "source": [
        "# =====================\n",
        "# MULTI-TASK MODEL\n",
        "# =====================\n",
        "class MultiTaskResNet(nn.Module):\n",
        "    def __init__(self, base_model, num_persons):\n",
        "        super().__init__()\n",
        "        self.backbone = nn.Sequential(*list(base_model.children())[:-1])  # remove original FC\n",
        "        in_features = base_model.fc.in_features\n",
        "        self.fc_person = nn.Linear(in_features, num_persons)\n",
        "        self.fc_forgery = nn.Linear(in_features, 2)\n",
        "\n",
        "    def forward(self, x):\n",
        "        x = self.backbone(x)\n",
        "        x = torch.flatten(x, 1)\n",
        "        person_out = self.fc_person(x)\n",
        "        forgery_out = self.fc_forgery(x)\n",
        "        return person_out, forgery_out\n",
        "\n",
        "base_resnet = models.resnet18(weights=models.ResNet18_Weights.DEFAULT)\n",
        "for param in base_resnet.parameters():\n",
        "    param.requires_grad = False  # freeze backbone\n",
        "\n",
        "model = MultiTaskResNet(base_resnet, NUM_PERSONS).to(device)"
      ]
    },
    {
      "cell_type": "code",
      "execution_count": null,
      "metadata": {
        "id": "23nOD0C9T2GO"
      },
      "outputs": [],
      "source": [
        "# =====================\n",
        "# LOSS & OPTIMIZER\n",
        "# =====================\n",
        "criterion = nn.CrossEntropyLoss()\n",
        "optimizer = optim.Adam(list(model.fc_person.parameters()) + list(model.fc_forgery.parameters()), lr=LR)"
      ]
    },
    {
      "cell_type": "code",
      "execution_count": null,
      "metadata": {
        "colab": {
          "base_uri": "https://localhost:8080/"
        },
        "id": "Eys84UgsT8cl",
        "outputId": "419d6ba4-a6e2-475b-ba8a-76a008519fa6"
      },
      "outputs": [
        {
          "name": "stdout",
          "output_type": "stream",
          "text": [
            "Epoch 1/20 | Train Loss: 4.7222 | Val Loss: 4.5680 | Train Acc Person: 2.32% | Val Acc Person: 5.68% | Train Acc Forgery: 52.75% | Val Acc Forgery: 54.17%\n",
            "Epoch 2/20 | Train Loss: 4.4267 | Val Loss: 4.3362 | Train Acc Person: 8.76% | Val Acc Person: 14.39% | Train Acc Forgery: 61.17% | Val Acc Forgery: 58.90%\n",
            "Epoch 3/20 | Train Loss: 4.2178 | Val Loss: 4.1209 | Train Acc Person: 18.42% | Val Acc Person: 28.03% | Train Acc Forgery: 64.58% | Val Acc Forgery: 63.07%\n",
            "Epoch 4/20 | Train Loss: 4.0076 | Val Loss: 3.9252 | Train Acc Person: 31.16% | Val Acc Person: 39.58% | Train Acc Forgery: 65.81% | Val Acc Forgery: 63.45%\n",
            "Epoch 5/20 | Train Loss: 3.8135 | Val Loss: 3.7366 | Train Acc Person: 41.62% | Val Acc Person: 51.33% | Train Acc Forgery: 67.95% | Val Acc Forgery: 69.70%\n",
            "Epoch 6/20 | Train Loss: 3.6386 | Val Loss: 3.5611 | Train Acc Person: 51.61% | Val Acc Person: 57.20% | Train Acc Forgery: 69.93% | Val Acc Forgery: 69.32%\n",
            "Epoch 7/20 | Train Loss: 3.4695 | Val Loss: 3.3889 | Train Acc Person: 56.68% | Val Acc Person: 63.83% | Train Acc Forgery: 69.51% | Val Acc Forgery: 72.54%\n",
            "Epoch 8/20 | Train Loss: 3.3000 | Val Loss: 3.2214 | Train Acc Person: 63.87% | Val Acc Person: 67.99% | Train Acc Forgery: 70.31% | Val Acc Forgery: 74.24%\n",
            "Epoch 9/20 | Train Loss: 3.1482 | Val Loss: 3.1027 | Train Acc Person: 70.12% | Val Acc Person: 71.02% | Train Acc Forgery: 72.16% | Val Acc Forgery: 73.48%\n",
            "Epoch 10/20 | Train Loss: 3.0145 | Val Loss: 2.9491 | Train Acc Person: 72.21% | Val Acc Person: 75.38% | Train Acc Forgery: 71.83% | Val Acc Forgery: 75.19%\n",
            "Epoch 11/20 | Train Loss: 2.8671 | Val Loss: 2.8225 | Train Acc Person: 77.46% | Val Acc Person: 76.33% | Train Acc Forgery: 74.10% | Val Acc Forgery: 75.38%\n",
            "Epoch 12/20 | Train Loss: 2.7630 | Val Loss: 2.7005 | Train Acc Person: 78.08% | Val Acc Person: 80.30% | Train Acc Forgery: 72.30% | Val Acc Forgery: 75.57%\n",
            "Epoch 13/20 | Train Loss: 2.6517 | Val Loss: 2.6121 | Train Acc Person: 79.92% | Val Acc Person: 81.63% | Train Acc Forgery: 73.77% | Val Acc Forgery: 72.54%\n",
            "Epoch 14/20 | Train Loss: 2.5357 | Val Loss: 2.5012 | Train Acc Person: 81.91% | Val Acc Person: 82.20% | Train Acc Forgery: 74.24% | Val Acc Forgery: 75.76%\n",
            "Epoch 15/20 | Train Loss: 2.4565 | Val Loss: 2.4164 | Train Acc Person: 82.48% | Val Acc Person: 83.33% | Train Acc Forgery: 74.57% | Val Acc Forgery: 74.62%\n",
            "Epoch 16/20 | Train Loss: 2.3578 | Val Loss: 2.3362 | Train Acc Person: 84.90% | Val Acc Person: 84.47% | Train Acc Forgery: 73.34% | Val Acc Forgery: 75.38%\n",
            "Epoch 17/20 | Train Loss: 2.2668 | Val Loss: 2.2394 | Train Acc Person: 83.90% | Val Acc Person: 84.09% | Train Acc Forgery: 74.81% | Val Acc Forgery: 75.19%\n",
            "Epoch 18/20 | Train Loss: 2.1927 | Val Loss: 2.1605 | Train Acc Person: 86.13% | Val Acc Person: 85.61% | Train Acc Forgery: 74.86% | Val Acc Forgery: 75.57%\n",
            "Epoch 19/20 | Train Loss: 2.1038 | Val Loss: 2.0963 | Train Acc Person: 86.36% | Val Acc Person: 86.17% | Train Acc Forgery: 76.80% | Val Acc Forgery: 77.46%\n",
            "Epoch 20/20 | Train Loss: 2.0423 | Val Loss: 2.0514 | Train Acc Person: 87.26% | Val Acc Person: 87.12% | Train Acc Forgery: 75.47% | Val Acc Forgery: 76.52%\n",
            "✅ Multi-task Training Complete\n"
          ]
        }
      ],
      "source": [
        "# =====================\n",
        "# TRAINING LOOP WITH HISTORY\n",
        "# =====================\n",
        "history = {\"train_loss\": [], \"val_loss\": [], \"train_acc_person\": [], \"val_acc_person\": [],\n",
        "           \"train_acc_forgery\": [], \"val_acc_forgery\": []}\n",
        "\n",
        "for epoch in range(1, EPOCHS + 1):\n",
        "    # --- TRAIN ---\n",
        "    model.train()\n",
        "    running_loss, correct_person, correct_forgery, total = 0, 0, 0, 0\n",
        "    for imgs, person_labels, forgery_labels in train_loader:\n",
        "        imgs = imgs.to(device)\n",
        "        person_labels = person_labels.to(device)\n",
        "        forgery_labels = forgery_labels.to(device)\n",
        "\n",
        "        optimizer.zero_grad()\n",
        "        out_person, out_forgery = model(imgs)\n",
        "        loss_person = criterion(out_person, person_labels)\n",
        "        loss_forgery = criterion(out_forgery, forgery_labels)\n",
        "        loss = loss_person + loss_forgery\n",
        "        loss.backward()\n",
        "        optimizer.step()\n",
        "\n",
        "        running_loss += loss.item() * imgs.size(0)\n",
        "        _, pred_person = torch.max(out_person, 1)\n",
        "        _, pred_forgery = torch.max(out_forgery, 1)\n",
        "        correct_person += (pred_person == person_labels).sum().item()\n",
        "        correct_forgery += (pred_forgery == forgery_labels).sum().item()\n",
        "        total += imgs.size(0)\n",
        "\n",
        "    train_loss = running_loss / total\n",
        "    train_acc_person = correct_person / total * 100\n",
        "    train_acc_forgery = correct_forgery / total * 100\n",
        "\n",
        "    # --- VALIDATION ---\n",
        "    model.eval()\n",
        "    val_loss, val_correct_person, val_correct_forgery, val_total = 0, 0, 0, 0\n",
        "    with torch.no_grad():\n",
        "        for imgs, person_labels, forgery_labels in val_loader:\n",
        "            imgs = imgs.to(device)\n",
        "            person_labels = person_labels.to(device)\n",
        "            forgery_labels = forgery_labels.to(device)\n",
        "\n",
        "            out_person, out_forgery = model(imgs)\n",
        "            loss_person = criterion(out_person, person_labels)\n",
        "            loss_forgery = criterion(out_forgery, forgery_labels)\n",
        "            loss = loss_person + loss_forgery\n",
        "            val_loss += loss.item() * imgs.size(0)\n",
        "\n",
        "            _, pred_person = torch.max(out_person, 1)\n",
        "            _, pred_forgery = torch.max(out_forgery, 1)\n",
        "            val_correct_person += (pred_person == person_labels).sum().item()\n",
        "            val_correct_forgery += (pred_forgery == forgery_labels).sum().item()\n",
        "            val_total += imgs.size(0)\n",
        "\n",
        "    val_loss /= val_total\n",
        "    val_acc_person = val_correct_person / val_total * 100\n",
        "    val_acc_forgery = val_correct_forgery / val_total * 100\n",
        "\n",
        "    # Save history\n",
        "    history[\"train_loss\"].append(train_loss)\n",
        "    history[\"val_loss\"].append(val_loss)\n",
        "    history[\"train_acc_person\"].append(train_acc_person)\n",
        "    history[\"val_acc_person\"].append(val_acc_person)\n",
        "    history[\"train_acc_forgery\"].append(train_acc_forgery)\n",
        "    history[\"val_acc_forgery\"].append(val_acc_forgery)\n",
        "\n",
        "    print(f\"Epoch {epoch}/{EPOCHS} | \"\n",
        "          f\"Train Loss: {train_loss:.4f} | Val Loss: {val_loss:.4f} | \"\n",
        "          f\"Train Acc Person: {train_acc_person:.2f}% | Val Acc Person: {val_acc_person:.2f}% | \"\n",
        "          f\"Train Acc Forgery: {train_acc_forgery:.2f}% | Val Acc Forgery: {val_acc_forgery:.2f}%\")\n",
        "\n",
        "print(\"✅ Multi-task Training Complete\")"
      ]
    },
    {
      "cell_type": "code",
      "execution_count": null,
      "metadata": {
        "colab": {
          "base_uri": "https://localhost:8080/",
          "height": 1000
        },
        "id": "oSe6KLqSNQUp",
        "outputId": "7383f72e-af91-4f30-977b-afc8662d8dae"
      },
      "outputs": [
        {
          "data": {
            "image/png": "[encoded data removed]",
            "text/plain": [
              "<Figure size 640x480 with 2 Axes>"
            ]
          },
          "metadata": {},
          "output_type": "display_data"
        },
        {
          "name": "stdout",
          "output_type": "stream",
          "text": [
            "\n",
            "Forgery Classification Report:\n",
            "\n",
            "              precision    recall  f1-score   support\n",
            "\n",
            "      Forged       0.79      0.73      0.76       268\n",
            "     Genuine       0.74      0.80      0.77       260\n",
            "\n",
            "    accuracy                           0.77       528\n",
            "   macro avg       0.77      0.77      0.76       528\n",
            "weighted avg       0.77      0.77      0.76       528\n",
            "\n"
          ]
        },
        {
          "data": {
            "image/png": "[encoded data removed]",
            "text/plain": [
              "<Figure size 1200x500 with 2 Axes>"
            ]
          },
          "metadata": {},
          "output_type": "display_data"
        }
      ],
      "source": [
        "# =====================\n",
        "# EVALUATION\n",
        "# =====================\n",
        "model.eval()\n",
        "y_true_person, y_pred_person = [], []\n",
        "y_true_forgery, y_pred_forgery = [], []\n",
        "\n",
        "with torch.no_grad():\n",
        "    for imgs, person_labels, forgery_labels in val_loader:\n",
        "        imgs = imgs.to(device)\n",
        "        person_labels = person_labels.to(device)\n",
        "        forgery_labels = forgery_labels.to(device)\n",
        "\n",
        "        out_person, out_forgery = model(imgs)\n",
        "        _, pred_person = torch.max(out_person, 1)\n",
        "        _, pred_forgery = torch.max(out_forgery, 1)\n",
        "\n",
        "        y_true_person.extend(person_labels.cpu().numpy())\n",
        "        y_pred_person.extend(pred_person.cpu().numpy())\n",
        "        y_true_forgery.extend(forgery_labels.cpu().numpy())\n",
        "        y_pred_forgery.extend(pred_forgery.cpu().numpy())\n",
        "\n",
        "# ---- Confusion Matrix & Report for Forgery ----\n",
        "cm_forgery = confusion_matrix(y_true_forgery, y_pred_forgery)\n",
        "disp = ConfusionMatrixDisplay(cm_forgery, display_labels=[\"Forged\", \"Genuine\"])\n",
        "disp.plot(cmap=plt.cm.Blues, values_format=\"d\")\n",
        "plt.title(\"Forgery Confusion Matrix\")\n",
        "plt.show()\n",
        "\n",
        "print(\"\\nForgery Classification Report:\\n\")\n",
        "print(classification_report(y_true_forgery, y_pred_forgery, target_names=[\"Forged\", \"Genuine\"]))\n",
        "\n",
        "# ---- OPTIONAL: Accuracy curves ----\n",
        "epochs_range = range(1, EPOCHS + 1)\n",
        "plt.figure(figsize=(12,5))\n",
        "plt.subplot(1,2,1)\n",
        "plt.plot(epochs_range, history[\"train_loss\"], label=\"Train Loss\")\n",
        "plt.plot(epochs_range, history[\"val_loss\"], label=\"Val Loss\")\n",
        "plt.xlabel(\"Epochs\"); plt.ylabel(\"Loss\"); plt.title(\"Loss Curve\"); plt.legend()\n",
        "\n",
        "plt.subplot(1,2,2)\n",
        "plt.plot(epochs_range, history[\"train_acc_person\"], label=\"Train Acc Person\")\n",
        "plt.plot(epochs_range, history[\"val_acc_person\"], label=\"Val Acc Person\")\n",
        "plt.plot(epochs_range, history[\"train_acc_forgery\"], label=\"Train Acc Forgery\")\n",
        "plt.plot(epochs_range, history[\"val_acc_forgery\"], label=\"Val Acc Forgery\")\n",
        "plt.xlabel(\"Epochs\"); plt.ylabel(\"Accuracy (%)\"); plt.title(\"Accuracy Curve\")\n",
        "plt.legend(); plt.show()\n"
      ]
    },
    {
      "cell_type": "markdown",
      "metadata": {
        "id": "YUvl0Cp1OGaX"
      },
      "source": [
        "A ready-to-use inference function for your multi-task ResNet18 model. It will take a new signature image and output both:\n",
        "\n",
        "1. Predicted person ID\n",
        "\n",
        "2. Genuine / Forged"
      ]
    },
    {
      "cell_type": "code",
      "execution_count": null,
      "metadata": {
        "id": "ceiR3BQDOKc3"
      },
      "outputs": [],
      "source": [
        "def predict_signature_person_forgery(model, img_path, transform, device):\n",
        "    \"\"\"\n",
        "    Predicts the signer and forgery status of a signature image.\n",
        "\n",
        "    Args:\n",
        "        model: trained multi-task model\n",
        "        img_path: path to the signature image\n",
        "        transform: torchvision transforms applied to the image\n",
        "        device: 'cuda' or 'cpu'\n",
        "\n",
        "    Returns:\n",
        "        predicted_person_id (int), predicted_forgery (str)\n",
        "    \"\"\"\n",
        "    model.eval()\n",
        "    image = Image.open(img_path).convert(\"RGB\")\n",
        "    image = transform(image).unsqueeze(0).to(device)\n",
        "\n",
        "    with torch.no_grad():\n",
        "        out_person, out_forgery = model(image)\n",
        "        _, pred_person = torch.max(out_person, 1)\n",
        "        _, pred_forgery = torch.max(out_forgery, 1)\n",
        "\n",
        "    predicted_person_id = pred_person.item() + 1  # convert back to 1-indexed\n",
        "    predicted_forgery = \"Genuine\" if pred_forgery.item() == 1 else \"Forged\"\n",
        "\n",
        "    return predicted_person_id, predicted_forgery\n"
      ]
    },
    {
      "cell_type": "code",
      "execution_count": null,
      "metadata": {
        "colab": {
          "base_uri": "https://localhost:8080/"
        },
        "id": "joSrzE3cOOd8",
        "outputId": "775dc53a-436a-472c-cdf0-ebbbdfaaacaa"
      },
      "outputs": [
        {
          "name": "stdout",
          "output_type": "stream",
          "text": [
            "Predicted Person ID: 2\n",
            "Forgery Status: Forged\n"
          ]
        }
      ],
      "source": [
        "# -------------------------\n",
        "#   Example Usage\n",
        "# -------------------------\n",
        "\n",
        "test_img = \"/content/forgeries_2_1.png\"\n",
        "person_id, forgery_status = predict_signature_person_forgery(\n",
        "    model, test_img, val_transform, device\n",
        ")\n",
        "print(f\"Predicted Person ID: {person_id}\")\n",
        "print(f\"Forgery Status: {forgery_status}\")\n"
      ]
    },
    {
      "cell_type": "code",
      "execution_count": null,
      "metadata": {
        "id": "2RtOQsuvOk9P"
      },
      "outputs": [],
      "source": [
        "torch.save(model.state_dict(), \"signature_multitask_resnet18.pth\")"
      ]
    },
    {
      "cell_type": "markdown",
      "metadata": {
        "id": "l9ygmUga_g-Q"
      },
      "source": [
        "---------------------------------------------------------------"
      ]
    },
    {
      "cell_type": "markdown",
      "source": [
        "<h1>Code 2:"
      ],
      "metadata": {
        "id": "UgPeEU6md1R0"
      }
    },
    {
      "cell_type": "markdown",
      "source": [
        "<h2>Model Architecture\n",
        "\n",
        "This is a Multi-task Convolutional Neural Network (CNN):\n",
        "\n",
        "Input Layer:\n",
        "\n",
        "1. Shape (128,128,1) for grayscale signature images.\n",
        "\n",
        "2. Shared Feature Extractor (CNN layers):\n",
        "\n",
        "    3 convolution + max pooling blocks:\n",
        "\n",
        "          Conv2D(32) → MaxPooling2D\n",
        "\n",
        "          Conv2D(64) → MaxPooling2D\n",
        "\n",
        "          Conv2D(128) → MaxPooling2D\n",
        "\n",
        "   Flatten → Dense(256) → Dropout(0.5).\n",
        "\n",
        "   Learns common features (strokes, curves, textures, etc.).\n",
        "\n",
        "3. Branch 1 – Person Identification:\n",
        "\n",
        "      - Dense layer with num_persons neurons, softmax.\n",
        "\n",
        "      - Task: \"Who signed this signature?\"\n",
        "\n",
        "4. Branch 2 – Forgery Detection:\n",
        "\n",
        "      - Dense layer with 2 neurons, softmax.\n",
        "\n",
        "      - Task: \"Is this signature Genuine or Forged?\""
      ],
      "metadata": {
        "id": "rxua0goViU2M"
      }
    },
    {
      "cell_type": "markdown",
      "source": [
        "<h3>Model Compilation\n",
        "\n",
        "1. Optimizer: Adam.\n",
        "\n",
        "2. Losses:\n",
        "\n",
        "     categorical_crossentropy for both branches.\n",
        "\n",
        "3. Metrics:\n",
        "\n",
        "     Accuracy for both tasks separately."
      ],
      "metadata": {
        "id": "GXTspHidmyf9"
      }
    },
    {
      "cell_type": "code",
      "source": [
        "import numpy as np\n",
        "import tensorflow as tf\n",
        "from tensorflow.keras.models import Model\n",
        "from tensorflow.keras.layers import Input, Conv2D, MaxPooling2D, Flatten, Dense, Dropout\n",
        "from tensorflow.keras.utils import to_categorical\n",
        "from sklearn.model_selection import train_test_split\n",
        "\n",
        "# ---------------------------\n",
        "# 1. Load dataset\n",
        "# ---------------------------\n",
        "data = np.load(\"signatures_dataset.npz\", allow_pickle=True)\n",
        "\n",
        "X = data[\"X\"]                         # (N, 128, 128, 1)\n",
        "y_person_ids = data[\"person_ids\"]     # person_id (int)\n",
        "y_person_names = data[\"person_names\"] # person_name (string)\n",
        "y_genuine = data[\"is_genuine\"]        # 0/1\n",
        "y_labels = data[\"labels\"]             # any extra label\n",
        "\n",
        "print(\"Shapes:\", X.shape, y_person_ids.shape, y_genuine.shape)\n",
        "\n",
        "# ---------------------------\n",
        "# 2. Encode labels\n",
        "# ---------------------------\n",
        "num_persons = len(np.unique(y_person_ids))\n",
        "\n",
        "y_persons_oh = to_categorical(y_person_ids - 1, num_classes=num_persons)\n",
        "y_genuine_oh = to_categorical(y_genuine, num_classes=2)\n",
        "\n",
        "# ---------------------------\n",
        "# 3. Train/test split\n",
        "# ---------------------------\n",
        "X_train, X_test, y_persons_train, y_persons_test, y_genuine_train, y_genuine_test = train_test_split(\n",
        "    X, y_persons_oh, y_genuine_oh, test_size=0.2, random_state=42, stratify=y_person_ids\n",
        ")\n",
        "\n",
        "# ---------------------------\n",
        "# 4. Define Multi-task CNN\n",
        "# ---------------------------\n",
        "inputs = Input(shape=(128, 128, 1))\n",
        "\n",
        "x = Conv2D(32, (3,3), activation=\"relu\", padding=\"same\")(inputs)\n",
        "x = MaxPooling2D((2,2))(x)\n",
        "x = Conv2D(64, (3,3), activation=\"relu\", padding=\"same\")(x)\n",
        "x = MaxPooling2D((2,2))(x)\n",
        "x = Conv2D(128, (3,3), activation=\"relu\", padding=\"same\")(x)\n",
        "x = MaxPooling2D((2,2))(x)\n",
        "x = Flatten()(x)\n",
        "x = Dense(256, activation=\"relu\")(x)\n",
        "x = Dropout(0.5)(x)\n",
        "\n",
        "# Branch 1: Person classification\n",
        "person_output = Dense(num_persons, activation=\"softmax\", name=\"person_output\")(x)\n",
        "\n",
        "# Branch 2: Genuine/Forged classification\n",
        "genuine_output = Dense(2, activation=\"softmax\", name=\"genuine_output\")(x)\n",
        "\n",
        "# Model\n",
        "model = Model(inputs=inputs, outputs=[person_output, genuine_output])\n",
        "\n",
        "model.compile(\n",
        "    optimizer=\"adam\",\n",
        "    loss={\"person_output\": \"categorical_crossentropy\", \"genuine_output\": \"categorical_crossentropy\"},\n",
        "    metrics={\"person_output\": \"accuracy\", \"genuine_output\": \"accuracy\"}\n",
        ")\n",
        "\n",
        "model.summary()\n",
        "\n",
        "# ---------------------------\n",
        "# 5. Train\n",
        "# ---------------------------\n",
        "history = model.fit(\n",
        "    X_train,\n",
        "    {\"person_output\": y_persons_train, \"genuine_output\": y_genuine_train},\n",
        "    validation_data=(X_test, {\"person_output\": y_persons_test, \"genuine_output\": y_genuine_test}),\n",
        "    epochs=10,\n",
        "    batch_size=32\n",
        ")\n"
      ],
      "metadata": {
        "colab": {
          "base_uri": "https://localhost:8080/",
          "height": 1000
        },
        "id": "LYUGSJ7wgSjI",
        "outputId": "40471f5b-b33a-4c8b-8fac-f55635283b69"
      },
      "execution_count": null,
      "outputs": [
        {
          "output_type": "stream",
          "name": "stdout",
          "text": [
            "Shapes: (2640, 128, 128, 1) (2640,) (2640,)\n"
          ]
        },
        {
          "output_type": "display_data",
          "data": {
            "text/plain": [
              "\u001b[1mModel: \"functional_1\"\u001b[0m\n"
            ],
            "text/html": [
              "<pre style=\"white-space:pre;overflow-x:auto;line-height:normal;font-family:Menlo,'DejaVu Sans Mono',consolas,'Courier New',monospace\"><span style=\"font-weight: bold\">Model: \"functional_1\"</span>\n",
              "</pre>\n"
            ]
          },
          "metadata": {}
        },
        {
          "output_type": "display_data",
          "data": {
            "text/plain": [
              "┏━━━━━━━━━━━━━━━━━━━━━┳━━━━━━━━━━━━━━━━━━━┳━━━━━━━━━━━━┳━━━━━━━━━━━━━━━━━━━┓\n",
              "┃\u001b[1m \u001b[0m\u001b[1mLayer (type)       \u001b[0m\u001b[1m \u001b[0m┃\u001b[1m \u001b[0m\u001b[1mOutput Shape     \u001b[0m\u001b[1m \u001b[0m┃\u001b[1m \u001b[0m\u001b[1m   Param #\u001b[0m\u001b[1m \u001b[0m┃\u001b[1m \u001b[0m\u001b[1mConnected to     \u001b[0m\u001b[1m \u001b[0m┃\n",
              "┡━━━━━━━━━━━━━━━━━━━━━╇━━━━━━━━━━━━━━━━━━━╇━━━━━━━━━━━━╇━━━━━━━━━━━━━━━━━━━┩\n",
              "│ input_layer_1       │ (\u001b[38;5;45mNone\u001b[0m, \u001b[38;5;34m128\u001b[0m, \u001b[38;5;34m128\u001b[0m,  │          \u001b[38;5;34m0\u001b[0m │ -                 │\n",
              "│ (\u001b[38;5;33mInputLayer\u001b[0m)        │ \u001b[38;5;34m1\u001b[0m)                │            │                   │\n",
              "├─────────────────────┼───────────────────┼────────────┼───────────────────┤\n",
              "│ conv2d_3 (\u001b[38;5;33mConv2D\u001b[0m)   │ (\u001b[38;5;45mNone\u001b[0m, \u001b[38;5;34m128\u001b[0m, \u001b[38;5;34m128\u001b[0m,  │        \u001b[38;5;34m320\u001b[0m │ input_layer_1[\u001b[38;5;34m0\u001b[0m]… │\n",
              "│                     │ \u001b[38;5;34m32\u001b[0m)               │            │                   │\n",
              "├─────────────────────┼───────────────────┼────────────┼───────────────────┤\n",
              "│ max_pooling2d_3     │ (\u001b[38;5;45mNone\u001b[0m, \u001b[38;5;34m64\u001b[0m, \u001b[38;5;34m64\u001b[0m,    │          \u001b[38;5;34m0\u001b[0m │ conv2d_3[\u001b[38;5;34m0\u001b[0m][\u001b[38;5;34m0\u001b[0m]    │\n",
              "│ (\u001b[38;5;33mMaxPooling2D\u001b[0m)      │ \u001b[38;5;34m32\u001b[0m)               │            │                   │\n",
              "├─────────────────────┼───────────────────┼────────────┼───────────────────┤\n",
              "│ conv2d_4 (\u001b[38;5;33mConv2D\u001b[0m)   │ (\u001b[38;5;45mNone\u001b[0m, \u001b[38;5;34m64\u001b[0m, \u001b[38;5;34m64\u001b[0m,    │     \u001b[38;5;34m18,496\u001b[0m │ max_pooling2d_3[\u001b[38;5;34m…\u001b[0m │\n",
              "│                     │ \u001b[38;5;34m64\u001b[0m)               │            │                   │\n",
              "├─────────────────────┼───────────────────┼────────────┼───────────────────┤\n",
              "│ max_pooling2d_4     │ (\u001b[38;5;45mNone\u001b[0m, \u001b[38;5;34m32\u001b[0m, \u001b[38;5;34m32\u001b[0m,    │          \u001b[38;5;34m0\u001b[0m │ conv2d_4[\u001b[38;5;34m0\u001b[0m][\u001b[38;5;34m0\u001b[0m]    │\n",
              "│ (\u001b[38;5;33mMaxPooling2D\u001b[0m)      │ \u001b[38;5;34m64\u001b[0m)               │            │                   │\n",
              "├─────────────────────┼───────────────────┼────────────┼───────────────────┤\n",
              "│ conv2d_5 (\u001b[38;5;33mConv2D\u001b[0m)   │ (\u001b[38;5;45mNone\u001b[0m, \u001b[38;5;34m32\u001b[0m, \u001b[38;5;34m32\u001b[0m,    │     \u001b[38;5;34m73,856\u001b[0m │ max_pooling2d_4[\u001b[38;5;34m…\u001b[0m │\n",
              "│                     │ \u001b[38;5;34m128\u001b[0m)              │            │                   │\n",
              "├─────────────────────┼───────────────────┼────────────┼───────────────────┤\n",
              "│ max_pooling2d_5     │ (\u001b[38;5;45mNone\u001b[0m, \u001b[38;5;34m16\u001b[0m, \u001b[38;5;34m16\u001b[0m,    │          \u001b[38;5;34m0\u001b[0m │ conv2d_5[\u001b[38;5;34m0\u001b[0m][\u001b[38;5;34m0\u001b[0m]    │\n",
              "│ (\u001b[38;5;33mMaxPooling2D\u001b[0m)      │ \u001b[38;5;34m128\u001b[0m)              │            │                   │\n",
              "├─────────────────────┼───────────────────┼────────────┼───────────────────┤\n",
              "│ flatten_1 (\u001b[38;5;33mFlatten\u001b[0m) │ (\u001b[38;5;45mNone\u001b[0m, \u001b[38;5;34m32768\u001b[0m)     │          \u001b[38;5;34m0\u001b[0m │ max_pooling2d_5[\u001b[38;5;34m…\u001b[0m │\n",
              "├─────────────────────┼───────────────────┼────────────┼───────────────────┤\n",
              "│ dense_1 (\u001b[38;5;33mDense\u001b[0m)     │ (\u001b[38;5;45mNone\u001b[0m, \u001b[38;5;34m256\u001b[0m)       │  \u001b[38;5;34m8,388,864\u001b[0m │ flatten_1[\u001b[38;5;34m0\u001b[0m][\u001b[38;5;34m0\u001b[0m]   │\n",
              "├─────────────────────┼───────────────────┼────────────┼───────────────────┤\n",
              "│ dropout_1 (\u001b[38;5;33mDropout\u001b[0m) │ (\u001b[38;5;45mNone\u001b[0m, \u001b[38;5;34m256\u001b[0m)       │          \u001b[38;5;34m0\u001b[0m │ dense_1[\u001b[38;5;34m0\u001b[0m][\u001b[38;5;34m0\u001b[0m]     │\n",
              "├─────────────────────┼───────────────────┼────────────┼───────────────────┤\n",
              "│ person_output       │ (\u001b[38;5;45mNone\u001b[0m, \u001b[38;5;34m55\u001b[0m)        │     \u001b[38;5;34m14,135\u001b[0m │ dropout_1[\u001b[38;5;34m0\u001b[0m][\u001b[38;5;34m0\u001b[0m]   │\n",
              "│ (\u001b[38;5;33mDense\u001b[0m)             │                   │            │                   │\n",
              "├─────────────────────┼───────────────────┼────────────┼───────────────────┤\n",
              "│ genuine_output      │ (\u001b[38;5;45mNone\u001b[0m, \u001b[38;5;34m2\u001b[0m)         │        \u001b[38;5;34m514\u001b[0m │ dropout_1[\u001b[38;5;34m0\u001b[0m][\u001b[38;5;34m0\u001b[0m]   │\n",
              "│ (\u001b[38;5;33mDense\u001b[0m)             │                   │            │                   │\n",
              "└─────────────────────┴───────────────────┴────────────┴───────────────────┘\n"
            ],
            "text/html": [
              "<pre style=\"white-space:pre;overflow-x:auto;line-height:normal;font-family:Menlo,'DejaVu Sans Mono',consolas,'Courier New',monospace\">┏━━━━━━━━━━━━━━━━━━━━━┳━━━━━━━━━━━━━━━━━━━┳━━━━━━━━━━━━┳━━━━━━━━━━━━━━━━━━━┓\n",
              "┃<span style=\"font-weight: bold\"> Layer (type)        </span>┃<span style=\"font-weight: bold\"> Output Shape      </span>┃<span style=\"font-weight: bold\">    Param # </span>┃<span style=\"font-weight: bold\"> Connected to      </span>┃\n",
              "┡━━━━━━━━━━━━━━━━━━━━━╇━━━━━━━━━━━━━━━━━━━╇━━━━━━━━━━━━╇━━━━━━━━━━━━━━━━━━━┩\n",
              "│ input_layer_1       │ (<span style=\"color: #00d7ff; text-decoration-color: #00d7ff\">None</span>, <span style=\"color: #00af00; text-decoration-color: #00af00\">128</span>, <span style=\"color: #00af00; text-decoration-color: #00af00\">128</span>,  │          <span style=\"color: #00af00; text-decoration-color: #00af00\">0</span> │ -                 │\n",
              "│ (<span style=\"color: #0087ff; text-decoration-color: #0087ff\">InputLayer</span>)        │ <span style=\"color: #00af00; text-decoration-color: #00af00\">1</span>)                │            │                   │\n",
              "├─────────────────────┼───────────────────┼────────────┼───────────────────┤\n",
              "│ conv2d_3 (<span style=\"color: #0087ff; text-decoration-color: #0087ff\">Conv2D</span>)   │ (<span style=\"color: #00d7ff; text-decoration-color: #00d7ff\">None</span>, <span style=\"color: #00af00; text-decoration-color: #00af00\">128</span>, <span style=\"color: #00af00; text-decoration-color: #00af00\">128</span>,  │        <span style=\"color: #00af00; text-decoration-color: #00af00\">320</span> │ input_layer_1[<span style=\"color: #00af00; text-decoration-color: #00af00\">0</span>]… │\n",
              "│                     │ <span style=\"color: #00af00; text-decoration-color: #00af00\">32</span>)               │            │                   │\n",
              "├─────────────────────┼───────────────────┼────────────┼───────────────────┤\n",
              "│ max_pooling2d_3     │ (<span style=\"color: #00d7ff; text-decoration-color: #00d7ff\">None</span>, <span style=\"color: #00af00; text-decoration-color: #00af00\">64</span>, <span style=\"color: #00af00; text-decoration-color: #00af00\">64</span>,    │          <span style=\"color: #00af00; text-decoration-color: #00af00\">0</span> │ conv2d_3[<span style=\"color: #00af00; text-decoration-color: #00af00\">0</span>][<span style=\"color: #00af00; text-decoration-color: #00af00\">0</span>]    │\n",
              "│ (<span style=\"color: #0087ff; text-decoration-color: #0087ff\">MaxPooling2D</span>)      │ <span style=\"color: #00af00; text-decoration-color: #00af00\">32</span>)               │            │                   │\n",
              "├─────────────────────┼───────────────────┼────────────┼───────────────────┤\n",
              "│ conv2d_4 (<span style=\"color: #0087ff; text-decoration-color: #0087ff\">Conv2D</span>)   │ (<span style=\"color: #00d7ff; text-decoration-color: #00d7ff\">None</span>, <span style=\"color: #00af00; text-decoration-color: #00af00\">64</span>, <span style=\"color: #00af00; text-decoration-color: #00af00\">64</span>,    │     <span style=\"color: #00af00; text-decoration-color: #00af00\">18,496</span> │ max_pooling2d_3[<span style=\"color: #00af00; text-decoration-color: #00af00\">…</span> │\n",
              "│                     │ <span style=\"color: #00af00; text-decoration-color: #00af00\">64</span>)               │            │                   │\n",
              "├─────────────────────┼───────────────────┼────────────┼───────────────────┤\n",
              "│ max_pooling2d_4     │ (<span style=\"color: #00d7ff; text-decoration-color: #00d7ff\">None</span>, <span style=\"color: #00af00; text-decoration-color: #00af00\">32</span>, <span style=\"color: #00af00; text-decoration-color: #00af00\">32</span>,    │          <span style=\"color: #00af00; text-decoration-color: #00af00\">0</span> │ conv2d_4[<span style=\"color: #00af00; text-decoration-color: #00af00\">0</span>][<span style=\"color: #00af00; text-decoration-color: #00af00\">0</span>]    │\n",
              "│ (<span style=\"color: #0087ff; text-decoration-color: #0087ff\">MaxPooling2D</span>)      │ <span style=\"color: #00af00; text-decoration-color: #00af00\">64</span>)               │            │                   │\n",
              "├─────────────────────┼───────────────────┼────────────┼───────────────────┤\n",
              "│ conv2d_5 (<span style=\"color: #0087ff; text-decoration-color: #0087ff\">Conv2D</span>)   │ (<span style=\"color: #00d7ff; text-decoration-color: #00d7ff\">None</span>, <span style=\"color: #00af00; text-decoration-color: #00af00\">32</span>, <span style=\"color: #00af00; text-decoration-color: #00af00\">32</span>,    │     <span style=\"color: #00af00; text-decoration-color: #00af00\">73,856</span> │ max_pooling2d_4[<span style=\"color: #00af00; text-decoration-color: #00af00\">…</span> │\n",
              "│                     │ <span style=\"color: #00af00; text-decoration-color: #00af00\">128</span>)              │            │                   │\n",
              "├─────────────────────┼───────────────────┼────────────┼───────────────────┤\n",
              "│ max_pooling2d_5     │ (<span style=\"color: #00d7ff; text-decoration-color: #00d7ff\">None</span>, <span style=\"color: #00af00; text-decoration-color: #00af00\">16</span>, <span style=\"color: #00af00; text-decoration-color: #00af00\">16</span>,    │          <span style=\"color: #00af00; text-decoration-color: #00af00\">0</span> │ conv2d_5[<span style=\"color: #00af00; text-decoration-color: #00af00\">0</span>][<span style=\"color: #00af00; text-decoration-color: #00af00\">0</span>]    │\n",
              "│ (<span style=\"color: #0087ff; text-decoration-color: #0087ff\">MaxPooling2D</span>)      │ <span style=\"color: #00af00; text-decoration-color: #00af00\">128</span>)              │            │                   │\n",
              "├─────────────────────┼───────────────────┼────────────┼───────────────────┤\n",
              "│ flatten_1 (<span style=\"color: #0087ff; text-decoration-color: #0087ff\">Flatten</span>) │ (<span style=\"color: #00d7ff; text-decoration-color: #00d7ff\">None</span>, <span style=\"color: #00af00; text-decoration-color: #00af00\">32768</span>)     │          <span style=\"color: #00af00; text-decoration-color: #00af00\">0</span> │ max_pooling2d_5[<span style=\"color: #00af00; text-decoration-color: #00af00\">…</span> │\n",
              "├─────────────────────┼───────────────────┼────────────┼───────────────────┤\n",
              "│ dense_1 (<span style=\"color: #0087ff; text-decoration-color: #0087ff\">Dense</span>)     │ (<span style=\"color: #00d7ff; text-decoration-color: #00d7ff\">None</span>, <span style=\"color: #00af00; text-decoration-color: #00af00\">256</span>)       │  <span style=\"color: #00af00; text-decoration-color: #00af00\">8,388,864</span> │ flatten_1[<span style=\"color: #00af00; text-decoration-color: #00af00\">0</span>][<span style=\"color: #00af00; text-decoration-color: #00af00\">0</span>]   │\n",
              "├─────────────────────┼───────────────────┼────────────┼───────────────────┤\n",
              "│ dropout_1 (<span style=\"color: #0087ff; text-decoration-color: #0087ff\">Dropout</span>) │ (<span style=\"color: #00d7ff; text-decoration-color: #00d7ff\">None</span>, <span style=\"color: #00af00; text-decoration-color: #00af00\">256</span>)       │          <span style=\"color: #00af00; text-decoration-color: #00af00\">0</span> │ dense_1[<span style=\"color: #00af00; text-decoration-color: #00af00\">0</span>][<span style=\"color: #00af00; text-decoration-color: #00af00\">0</span>]     │\n",
              "├─────────────────────┼───────────────────┼────────────┼───────────────────┤\n",
              "│ person_output       │ (<span style=\"color: #00d7ff; text-decoration-color: #00d7ff\">None</span>, <span style=\"color: #00af00; text-decoration-color: #00af00\">55</span>)        │     <span style=\"color: #00af00; text-decoration-color: #00af00\">14,135</span> │ dropout_1[<span style=\"color: #00af00; text-decoration-color: #00af00\">0</span>][<span style=\"color: #00af00; text-decoration-color: #00af00\">0</span>]   │\n",
              "│ (<span style=\"color: #0087ff; text-decoration-color: #0087ff\">Dense</span>)             │                   │            │                   │\n",
              "├─────────────────────┼───────────────────┼────────────┼───────────────────┤\n",
              "│ genuine_output      │ (<span style=\"color: #00d7ff; text-decoration-color: #00d7ff\">None</span>, <span style=\"color: #00af00; text-decoration-color: #00af00\">2</span>)         │        <span style=\"color: #00af00; text-decoration-color: #00af00\">514</span> │ dropout_1[<span style=\"color: #00af00; text-decoration-color: #00af00\">0</span>][<span style=\"color: #00af00; text-decoration-color: #00af00\">0</span>]   │\n",
              "│ (<span style=\"color: #0087ff; text-decoration-color: #0087ff\">Dense</span>)             │                   │            │                   │\n",
              "└─────────────────────┴───────────────────┴────────────┴───────────────────┘\n",
              "</pre>\n"
            ]
          },
          "metadata": {}
        },
        {
          "output_type": "display_data",
          "data": {
            "text/plain": [
              "\u001b[1m Total params: \u001b[0m\u001b[38;5;34m8,496,185\u001b[0m (32.41 MB)\n"
            ],
            "text/html": [
              "<pre style=\"white-space:pre;overflow-x:auto;line-height:normal;font-family:Menlo,'DejaVu Sans Mono',consolas,'Courier New',monospace\"><span style=\"font-weight: bold\"> Total params: </span><span style=\"color: #00af00; text-decoration-color: #00af00\">8,496,185</span> (32.41 MB)\n",
              "</pre>\n"
            ]
          },
          "metadata": {}
        },
        {
          "output_type": "display_data",
          "data": {
            "text/plain": [
              "\u001b[1m Trainable params: \u001b[0m\u001b[38;5;34m8,496,185\u001b[0m (32.41 MB)\n"
            ],
            "text/html": [
              "<pre style=\"white-space:pre;overflow-x:auto;line-height:normal;font-family:Menlo,'DejaVu Sans Mono',consolas,'Courier New',monospace\"><span style=\"font-weight: bold\"> Trainable params: </span><span style=\"color: #00af00; text-decoration-color: #00af00\">8,496,185</span> (32.41 MB)\n",
              "</pre>\n"
            ]
          },
          "metadata": {}
        },
        {
          "output_type": "display_data",
          "data": {
            "text/plain": [
              "\u001b[1m Non-trainable params: \u001b[0m\u001b[38;5;34m0\u001b[0m (0.00 B)\n"
            ],
            "text/html": [
              "<pre style=\"white-space:pre;overflow-x:auto;line-height:normal;font-family:Menlo,'DejaVu Sans Mono',consolas,'Courier New',monospace\"><span style=\"font-weight: bold\"> Non-trainable params: </span><span style=\"color: #00af00; text-decoration-color: #00af00\">0</span> (0.00 B)\n",
              "</pre>\n"
            ]
          },
          "metadata": {}
        },
        {
          "output_type": "stream",
          "name": "stdout",
          "text": [
            "Epoch 1/10\n",
            "\u001b[1m66/66\u001b[0m \u001b[32m━━━━━━━━━━━━━━━━━━━━\u001b[0m\u001b[37m\u001b[0m \u001b[1m7s\u001b[0m 46ms/step - genuine_output_accuracy: 0.5171 - genuine_output_loss: 0.8874 - loss: 4.9916 - person_output_accuracy: 0.0127 - person_output_loss: 4.1042 - val_genuine_output_accuracy: 0.6799 - val_genuine_output_loss: 0.6181 - val_loss: 4.2405 - val_person_output_accuracy: 0.1705 - val_person_output_loss: 3.6238\n",
            "Epoch 2/10\n",
            "\u001b[1m66/66\u001b[0m \u001b[32m━━━━━━━━━━━━━━━━━━━━\u001b[0m\u001b[37m\u001b[0m \u001b[1m2s\u001b[0m 23ms/step - genuine_output_accuracy: 0.7011 - genuine_output_loss: 0.6169 - loss: 3.8631 - person_output_accuracy: 0.1716 - person_output_loss: 3.2462 - val_genuine_output_accuracy: 0.6970 - val_genuine_output_loss: 0.5718 - val_loss: 2.5663 - val_person_output_accuracy: 0.5114 - val_person_output_loss: 2.0001\n",
            "Epoch 3/10\n",
            "\u001b[1m66/66\u001b[0m \u001b[32m━━━━━━━━━━━━━━━━━━━━\u001b[0m\u001b[37m\u001b[0m \u001b[1m2s\u001b[0m 23ms/step - genuine_output_accuracy: 0.7361 - genuine_output_loss: 0.5502 - loss: 2.5569 - person_output_accuracy: 0.4559 - person_output_loss: 2.0067 - val_genuine_output_accuracy: 0.7803 - val_genuine_output_loss: 0.4567 - val_loss: 1.6181 - val_person_output_accuracy: 0.7216 - val_person_output_loss: 1.1816\n",
            "Epoch 4/10\n",
            "\u001b[1m66/66\u001b[0m \u001b[32m━━━━━━━━━━━━━━━━━━━━\u001b[0m\u001b[37m\u001b[0m \u001b[1m2s\u001b[0m 21ms/step - genuine_output_accuracy: 0.7787 - genuine_output_loss: 0.4768 - loss: 1.7902 - person_output_accuracy: 0.6268 - person_output_loss: 1.3135 - val_genuine_output_accuracy: 0.7973 - val_genuine_output_loss: 0.4484 - val_loss: 1.1414 - val_person_output_accuracy: 0.8182 - val_person_output_loss: 0.7093\n",
            "Epoch 5/10\n",
            "\u001b[1m66/66\u001b[0m \u001b[32m━━━━━━━━━━━━━━━━━━━━\u001b[0m\u001b[37m\u001b[0m \u001b[1m1s\u001b[0m 22ms/step - genuine_output_accuracy: 0.8244 - genuine_output_loss: 0.4039 - loss: 1.2301 - person_output_accuracy: 0.7684 - person_output_loss: 0.8262 - val_genuine_output_accuracy: 0.8352 - val_genuine_output_loss: 0.3910 - val_loss: 0.9218 - val_person_output_accuracy: 0.8523 - val_person_output_loss: 0.5446\n",
            "Epoch 6/10\n",
            "\u001b[1m66/66\u001b[0m \u001b[32m━━━━━━━━━━━━━━━━━━━━\u001b[0m\u001b[37m\u001b[0m \u001b[1m1s\u001b[0m 22ms/step - genuine_output_accuracy: 0.8372 - genuine_output_loss: 0.3670 - loss: 0.9553 - person_output_accuracy: 0.8263 - person_output_loss: 0.5883 - val_genuine_output_accuracy: 0.8504 - val_genuine_output_loss: 0.3751 - val_loss: 0.7549 - val_person_output_accuracy: 0.8902 - val_person_output_loss: 0.3978\n",
            "Epoch 7/10\n",
            "\u001b[1m66/66\u001b[0m \u001b[32m━━━━━━━━━━━━━━━━━━━━\u001b[0m\u001b[37m\u001b[0m \u001b[1m3s\u001b[0m 22ms/step - genuine_output_accuracy: 0.8579 - genuine_output_loss: 0.3414 - loss: 0.7680 - person_output_accuracy: 0.8646 - person_output_loss: 0.4267 - val_genuine_output_accuracy: 0.8542 - val_genuine_output_loss: 0.3543 - val_loss: 0.7314 - val_person_output_accuracy: 0.8864 - val_person_output_loss: 0.3894\n",
            "Epoch 8/10\n",
            "\u001b[1m66/66\u001b[0m \u001b[32m━━━━━━━━━━━━━━━━━━━━\u001b[0m\u001b[37m\u001b[0m \u001b[1m1s\u001b[0m 22ms/step - genuine_output_accuracy: 0.8666 - genuine_output_loss: 0.2992 - loss: 0.6345 - person_output_accuracy: 0.8883 - person_output_loss: 0.3353 - val_genuine_output_accuracy: 0.8693 - val_genuine_output_loss: 0.3283 - val_loss: 0.6635 - val_person_output_accuracy: 0.8996 - val_person_output_loss: 0.3534\n",
            "Epoch 9/10\n",
            "\u001b[1m66/66\u001b[0m \u001b[32m━━━━━━━━━━━━━━━━━━━━\u001b[0m\u001b[37m\u001b[0m \u001b[1m3s\u001b[0m 24ms/step - genuine_output_accuracy: 0.8841 - genuine_output_loss: 0.2629 - loss: 0.5812 - person_output_accuracy: 0.9061 - person_output_loss: 0.3183 - val_genuine_output_accuracy: 0.8750 - val_genuine_output_loss: 0.3267 - val_loss: 0.6372 - val_person_output_accuracy: 0.9186 - val_person_output_loss: 0.3309\n",
            "Epoch 10/10\n",
            "\u001b[1m66/66\u001b[0m \u001b[32m━━━━━━━━━━━━━━━━━━━━\u001b[0m\u001b[37m\u001b[0m \u001b[1m2s\u001b[0m 23ms/step - genuine_output_accuracy: 0.9054 - genuine_output_loss: 0.2053 - loss: 0.4279 - person_output_accuracy: 0.9311 - person_output_loss: 0.2226 - val_genuine_output_accuracy: 0.8902 - val_genuine_output_loss: 0.3731 - val_loss: 0.6902 - val_person_output_accuracy: 0.8902 - val_person_output_loss: 0.3488\n"
          ]
        }
      ]
    },
    {
      "cell_type": "code",
      "source": [
        "from sklearn.metrics import classification_report, confusion_matrix\n",
        "import numpy as np\n",
        "\n",
        "# ---------------------------\n",
        "# Evaluate model on test data\n",
        "# ---------------------------\n",
        "test_loss, person_loss, genuine_loss, person_acc, genuine_acc = model.evaluate(\n",
        "    X_test,\n",
        "    {\"person_output\": y_persons_test, \"genuine_output\": y_genuine_test},\n",
        "    verbose=1\n",
        ")\n",
        "\n",
        "print(\"\\n📊 Test Results:\")\n",
        "print(f\"Total loss: {test_loss:.4f}\")\n",
        "print(f\"Person ID loss: {person_loss:.4f}, Accuracy: {person_acc:.4f}\")\n",
        "print(f\"Genuine/Forgery loss: {genuine_loss:.4f}, Accuracy: {genuine_acc:.4f}\")\n"
      ],
      "metadata": {
        "colab": {
          "base_uri": "https://localhost:8080/"
        },
        "id": "ECYLDunlfDYt",
        "outputId": "9b3a90c1-1447-430d-f127-dc1d5da6d2b8"
      },
      "execution_count": null,
      "outputs": [
        {
          "output_type": "stream",
          "name": "stdout",
          "text": [
            "\u001b[1m17/17\u001b[0m \u001b[32m━━━━━━━━━━━━━━━━━━━━\u001b[0m\u001b[37m\u001b[0m \u001b[1m0s\u001b[0m 18ms/step - genuine_output_accuracy: 0.8993 - genuine_output_loss: 0.3324 - loss: 0.6061 - person_output_accuracy: 0.9030 - person_output_loss: 0.2771\n",
            "\n",
            "📊 Test Results:\n",
            "Total loss: 0.6902\n",
            "Person ID loss: 0.3488, Accuracy: 0.8902\n",
            "Genuine/Forgery loss: 0.3731, Accuracy: 0.8902\n"
          ]
        }
      ]
    },
    {
      "cell_type": "code",
      "source": [
        "# ---------------------------\n",
        "# Predictions\n",
        "# ---------------------------\n",
        "y_pred_person_probs, y_pred_genuine_probs = model.predict(X_test)\n",
        "\n",
        "# Person predictions\n",
        "y_pred_person = np.argmax(y_pred_person_probs, axis=1)\n",
        "y_true_person = np.argmax(y_persons_test, axis=1)\n",
        "\n",
        "# Genuine predictions\n",
        "y_pred_genuine = np.argmax(y_pred_genuine_probs, axis=1)\n",
        "y_true_genuine = np.argmax(y_genuine_test, axis=1)\n",
        "\n",
        "# ---------------------------\n",
        "# Reports\n",
        "# ---------------------------\n",
        "print(\"\\nPerson ID Classification Report:\")\n",
        "print(classification_report(y_true_person, y_pred_person))\n",
        "\n",
        "print(\"\\nGenuine/Forgery Classification Report:\")\n",
        "print(classification_report(y_true_genuine, y_pred_genuine))\n",
        "\n",
        "print(\"\\nConfusion Matrix (Person ID):\")\n",
        "print(confusion_matrix(y_true_person, y_pred_person))\n",
        "\n",
        "print(\"\\nConfusion Matrix (Genuine/Forgery):\")\n",
        "print(confusion_matrix(y_true_genuine, y_pred_genuine))\n"
      ],
      "metadata": {
        "colab": {
          "base_uri": "https://localhost:8080/"
        },
        "id": "tWR2Sh1jgwvI",
        "outputId": "061a6b6f-7a3c-4842-9988-7f35661e6fa1"
      },
      "execution_count": null,
      "outputs": [
        {
          "output_type": "stream",
          "name": "stdout",
          "text": [
            "\u001b[1m17/17\u001b[0m \u001b[32m━━━━━━━━━━━━━━━━━━━━\u001b[0m\u001b[37m\u001b[0m \u001b[1m1s\u001b[0m 29ms/step\n",
            "\n",
            "Person ID Classification Report:\n",
            "              precision    recall  f1-score   support\n",
            "\n",
            "           0       0.77      1.00      0.87        10\n",
            "           1       0.91      1.00      0.95        10\n",
            "           2       0.89      0.89      0.89         9\n",
            "           3       0.78      0.78      0.78         9\n",
            "           4       0.80      0.89      0.84         9\n",
            "           5       0.82      1.00      0.90         9\n",
            "           6       1.00      0.40      0.57        10\n",
            "           7       1.00      1.00      1.00         9\n",
            "           8       0.83      1.00      0.91        10\n",
            "           9       1.00      0.90      0.95        10\n",
            "          10       1.00      0.90      0.95        10\n",
            "          11       1.00      1.00      1.00         9\n",
            "          12       1.00      1.00      1.00         9\n",
            "          13       0.82      0.90      0.86        10\n",
            "          14       1.00      0.90      0.95        10\n",
            "          15       1.00      1.00      1.00        10\n",
            "          16       1.00      1.00      1.00         9\n",
            "          17       0.80      0.80      0.80        10\n",
            "          18       0.88      0.78      0.82         9\n",
            "          19       1.00      0.70      0.82        10\n",
            "          20       0.73      0.80      0.76        10\n",
            "          21       0.86      0.60      0.71        10\n",
            "          22       1.00      0.90      0.95        10\n",
            "          23       0.67      0.80      0.73        10\n",
            "          24       0.80      0.80      0.80        10\n",
            "          25       1.00      1.00      1.00         9\n",
            "          26       0.90      1.00      0.95         9\n",
            "          27       0.91      1.00      0.95        10\n",
            "          28       0.90      0.90      0.90        10\n",
            "          29       0.91      1.00      0.95        10\n",
            "          30       1.00      0.89      0.94         9\n",
            "          31       0.80      0.89      0.84         9\n",
            "          32       1.00      0.89      0.94         9\n",
            "          33       0.50      0.89      0.64         9\n",
            "          34       0.75      0.90      0.82        10\n",
            "          35       1.00      0.90      0.95        10\n",
            "          36       1.00      0.90      0.95        10\n",
            "          37       0.78      0.70      0.74        10\n",
            "          38       1.00      0.90      0.95        10\n",
            "          39       1.00      1.00      1.00        10\n",
            "          40       0.89      0.89      0.89         9\n",
            "          41       0.82      0.90      0.86        10\n",
            "          42       0.89      0.89      0.89         9\n",
            "          43       0.78      0.70      0.74        10\n",
            "          44       0.90      1.00      0.95         9\n",
            "          45       1.00      1.00      1.00         9\n",
            "          46       1.00      1.00      1.00         9\n",
            "          47       1.00      0.90      0.95        10\n",
            "          48       0.90      1.00      0.95         9\n",
            "          49       1.00      1.00      1.00        10\n",
            "          50       1.00      0.90      0.95        10\n",
            "          51       0.90      1.00      0.95         9\n",
            "          52       0.82      0.90      0.86        10\n",
            "          53       1.00      0.90      0.95        10\n",
            "          54       1.00      0.60      0.75        10\n",
            "\n",
            "    accuracy                           0.89       528\n",
            "   macro avg       0.90      0.89      0.89       528\n",
            "weighted avg       0.90      0.89      0.89       528\n",
            "\n",
            "\n",
            "Genuine/Forgery Classification Report:\n",
            "              precision    recall  f1-score   support\n",
            "\n",
            "           0       0.86      0.93      0.89       260\n",
            "           1       0.92      0.85      0.89       268\n",
            "\n",
            "    accuracy                           0.89       528\n",
            "   macro avg       0.89      0.89      0.89       528\n",
            "weighted avg       0.89      0.89      0.89       528\n",
            "\n",
            "\n",
            "Confusion Matrix (Person ID):\n",
            "[[10  0  0 ...  0  0  0]\n",
            " [ 0 10  0 ...  0  0  0]\n",
            " [ 0  0  8 ...  0  0  0]\n",
            " ...\n",
            " [ 0  0  0 ...  9  0  0]\n",
            " [ 1  0  0 ...  0  9  0]\n",
            " [ 0  1  0 ...  0  0  6]]\n",
            "\n",
            "Confusion Matrix (Genuine/Forgery):\n",
            "[[241  19]\n",
            " [ 39 229]]\n"
          ]
        }
      ]
    },
    {
      "cell_type": "code",
      "source": [
        "model.save(\"signature_verification_model.h5\")\n",
        "print(\"✅ Model saved as signature_verification_model.h5\")\n"
      ],
      "metadata": {
        "colab": {
          "base_uri": "https://localhost:8080/"
        },
        "id": "psQh1h8wg2po",
        "outputId": "ec0af6cb-5a8c-4aeb-94ef-14fd879e3921"
      },
      "execution_count": null,
      "outputs": [
        {
          "output_type": "stream",
          "name": "stderr",
          "text": [
            "WARNING:absl:You are saving your model as an HDF5 file via `model.save()` or `keras.saving.save_model(model)`. This file format is considered legacy. We recommend using instead the native Keras format, e.g. `model.save('my_model.keras')` or `keras.saving.save_model(model, 'my_model.keras')`. \n"
          ]
        },
        {
          "output_type": "stream",
          "name": "stdout",
          "text": [
            "✅ Model saved as signature_verification_model.h5\n"
          ]
        }
      ]
    },
    {
      "cell_type": "code",
      "source": [
        "from google.colab import files\n",
        "\n",
        "# Save again (just to be sure)\n",
        "model.save(\"signature_verification_model.h5\")\n",
        "\n",
        "# Download to local system\n",
        "files.download(\"signature_verification_model.h5\")\n"
      ],
      "metadata": {
        "colab": {
          "base_uri": "https://localhost:8080/",
          "height": 54
        },
        "id": "WHqi7eExg-8V",
        "outputId": "52227797-5aa6-454d-a79d-1a6335ba9784"
      },
      "execution_count": null,
      "outputs": [
        {
          "output_type": "stream",
          "name": "stderr",
          "text": [
            "WARNING:absl:You are saving your model as an HDF5 file via `model.save()` or `keras.saving.save_model(model)`. This file format is considered legacy. We recommend using instead the native Keras format, e.g. `model.save('my_model.keras')` or `keras.saving.save_model(model, 'my_model.keras')`. \n"
          ]
        },
        {
          "output_type": "display_data",
          "data": {
            "text/plain": [
              "<IPython.core.display.Javascript object>"
            ],
            "application/javascript": [
              "\n",
              "    async function download(id, filename, size) {\n",
              "      if (!google.colab.kernel.accessAllowed) {\n",
              "        return;\n",
              "      }\n",
              "      const div = document.createElement('div');\n",
              "      const label = document.createElement('label');\n",
              "      label.textContent = `Downloading \"${filename}\": `;\n",
              "      div.appendChild(label);\n",
              "      const progress = document.createElement('progress');\n",
              "      progress.max = size;\n",
              "      div.appendChild(progress);\n",
              "      document.body.appendChild(div);\n",
              "\n",
              "      const buffers = [];\n",
              "      let downloaded = 0;\n",
              "\n",
              "      const channel = await google.colab.kernel.comms.open(id);\n",
              "      // Send a message to notify the kernel that we're ready.\n",
              "      channel.send({})\n",
              "\n",
              "      for await (const message of channel.messages) {\n",
              "        // Send a message to notify the kernel that we're ready.\n",
              "        channel.send({})\n",
              "        if (message.buffers) {\n",
              "          for (const buffer of message.buffers) {\n",
              "            buffers.push(buffer);\n",
              "            downloaded += buffer.byteLength;\n",
              "            progress.value = downloaded;\n",
              "          }\n",
              "        }\n",
              "      }\n",
              "      const blob = new Blob(buffers, {type: 'application/binary'});\n",
              "      const a = document.createElement('a');\n",
              "      a.href = window.URL.createObjectURL(blob);\n",
              "      a.download = filename;\n",
              "      div.appendChild(a);\n",
              "      a.click();\n",
              "      div.remove();\n",
              "    }\n",
              "  "
            ]
          },
          "metadata": {}
        },
        {
          "output_type": "display_data",
          "data": {
            "text/plain": [
              "<IPython.core.display.Javascript object>"
            ],
            "application/javascript": [
              "download(\"download_03b71436-8132-44f4-87ca-28536809c5b1\", \"signature_verification_model.h5\", 102010540)"
            ]
          },
          "metadata": {}
        }
      ]
    },
    {
      "cell_type": "code",
      "source": [
        "import cv2\n",
        "import requests\n",
        "from io import BytesIO\n",
        "from PIL import Image\n",
        "\n",
        "# Mapping person_id → person_name\n",
        "person_id_to_name = {pid: name for pid, name in zip(y_person_ids, y_person_names)}\n",
        "\n",
        "def preprocess_single_image(img_path_or_url):\n",
        "    # Load image from URL or local path\n",
        "    if img_path_or_url.startswith(\"http\"):\n",
        "        response = requests.get(img_path_or_url)\n",
        "        img = Image.open(BytesIO(response.content)).convert(\"L\")  # grayscale\n",
        "    else:\n",
        "        img = Image.open(img_path_or_url).convert(\"L\")\n",
        "\n",
        "    # Resize & normalize\n",
        "    img = img.resize((128, 128))\n",
        "    img = np.array(img, dtype=\"float32\") / 255.0\n",
        "    img = np.expand_dims(img, axis=-1)   # (128,128,1)\n",
        "    img = np.expand_dims(img, axis=0)    # (1,128,128,1)\n",
        "    return img\n",
        "\n",
        "def predict_signature(img_path_or_url):\n",
        "    img = preprocess_single_image(img_path_or_url)\n",
        "    pred_person_probs, pred_genuine_probs = model.predict(img)\n",
        "\n",
        "    # Person\n",
        "    pred_person_id = np.argmax(pred_person_probs)\n",
        "    pred_person_name = person_id_to_name.get(pred_person_id+1, f\"Person_{pred_person_id+1}\")\n",
        "\n",
        "    # Genuine/Forged\n",
        "    pred_genuine_idx = np.argmax(pred_genuine_probs)\n",
        "    forgery_status = \"Genuine\" if pred_genuine_idx == 1 else \"Forged\"\n",
        "\n",
        "    return pred_person_name, forgery_status\n"
      ],
      "metadata": {
        "id": "uVTQ7IxohQMk"
      },
      "execution_count": null,
      "outputs": []
    },
    {
      "cell_type": "code",
      "source": [
        "# ---------------------------\n",
        "# Example usage\n",
        "# ---------------------------\n",
        "img_url = \"/content/Aanya_forged_556.png\"  # replace with actual signature link\n",
        "pred_name, pred_status = predict_signature(img_url)\n",
        "\n",
        "print(f\"Predicted Person: {pred_name}\")\n",
        "print(f\"Status: {pred_status}\")"
      ],
      "metadata": {
        "colab": {
          "base_uri": "https://localhost:8080/"
        },
        "id": "Dyi3nN54ha75",
        "outputId": "b2648380-c6f8-4f34-f6db-d67182c9be49"
      },
      "execution_count": null,
      "outputs": [
        {
          "output_type": "stream",
          "name": "stdout",
          "text": [
            "\u001b[1m1/1\u001b[0m \u001b[32m━━━━━━━━━━━━━━━━━━━━\u001b[0m\u001b[37m\u001b[0m \u001b[1m0s\u001b[0m 28ms/step\n",
            "Predicted Person: Aanya\n",
            "Status: Forged\n"
          ]
        }
      ]
    },
    {
      "cell_type": "markdown",
      "source": [
        "Testing Using saved Model:"
      ],
      "metadata": {
        "id": "0ud32KdJZkvW"
      }
    },
    {
      "cell_type": "code",
      "source": [
        "import numpy as np\n",
        "import pandas as pd\n",
        "from tensorflow.keras.models import load_model\n",
        "from PIL import Image\n",
        "import requests\n",
        "from io import BytesIO\n",
        "\n",
        "# ---------------------------\n",
        "# 1. Load trained model\n",
        "# ---------------------------\n",
        "model = load_model(\"signature_verification_model.h5\")\n",
        "print(\"✅ Model loaded successfully!\")\n",
        "\n",
        "# ---------------------------\n",
        "# 2. Build person_id → name mapping from metadata.csv\n",
        "# ---------------------------\n",
        "metadata = pd.read_csv(\"metadata.csv\")\n",
        "person_id_to_name = dict(zip(metadata[\"person_id\"], metadata[\"person_name\"]))\n",
        "print(\"✅ Loaded person_id → person_name mapping\")\n",
        "\n",
        "# ---------------------------\n",
        "# 3. Preprocess image\n",
        "# ---------------------------\n",
        "def preprocess_image(path_or_url):\n",
        "    if path_or_url.startswith(\"http\"):\n",
        "        # Load image from URL\n",
        "        response = requests.get(path_or_url)\n",
        "        img = Image.open(BytesIO(response.content)).convert(\"L\")\n",
        "    else:\n",
        "        # Load local image\n",
        "        img = Image.open(path_or_url).convert(\"L\")\n",
        "\n",
        "    # Resize, normalize, and reshape\n",
        "    img = img.resize((128, 128))\n",
        "    img = np.array(img, dtype=\"float32\") / 255.0\n",
        "    img = np.expand_dims(img, axis=-1)  # (128,128,1)\n",
        "    img = np.expand_dims(img, axis=0)   # (1,128,128,1)\n",
        "    return img\n",
        "\n",
        "# ---------------------------\n",
        "# 4. Prediction function\n",
        "# ---------------------------\n",
        "def predict_signature(path_or_url):\n",
        "    img = preprocess_image(path_or_url)\n",
        "    pred_person_probs, pred_genuine_probs = model.predict(img)\n",
        "\n",
        "    # Person prediction\n",
        "    pred_person_id = np.argmax(pred_person_probs) + 1  # +1 if IDs started from 1\n",
        "    person_name = person_id_to_name.get(pred_person_id, f\"Person_{pred_person_id}\")\n",
        "\n",
        "    # Genuine/Forgery prediction\n",
        "    pred_genuine_idx = np.argmax(pred_genuine_probs)\n",
        "    forgery_status = \"Genuine\" if pred_genuine_idx == 1 else \"Forged\"\n",
        "\n",
        "    return person_name, forgery_status"
      ],
      "metadata": {
        "colab": {
          "base_uri": "https://localhost:8080/"
        },
        "id": "BLAy2YLWZofh",
        "outputId": "745c6af4-af36-4d8b-f27c-4a0483467b0c"
      },
      "execution_count": 1,
      "outputs": [
        {
          "output_type": "stream",
          "name": "stderr",
          "text": [
            "WARNING:absl:Compiled the loaded model, but the compiled metrics have yet to be built. `model.compile_metrics` will be empty until you train or evaluate the model.\n"
          ]
        },
        {
          "output_type": "stream",
          "name": "stdout",
          "text": [
            "✅ Model loaded successfully!\n",
            "✅ Loaded person_id → person_name mapping\n"
          ]
        }
      ]
    },
    {
      "cell_type": "code",
      "source": [
        "# ---------------------------\n",
        "# 5. Example usage\n",
        "# ---------------------------\n",
        "if __name__ == \"__main__\":\n",
        "    # Local test image\n",
        "    img_path = \"/content/Sakshi_genuine_1922.png\"   # replace with your signature image path\n",
        "    name, status = predict_signature(img_path)\n",
        "    print(f\"Predicted Person: {name}\")\n",
        "    print(f\"Status: {status}\")"
      ],
      "metadata": {
        "colab": {
          "base_uri": "https://localhost:8080/"
        },
        "id": "EiU_o7rhdkQc",
        "outputId": "2cbe79ab-373c-4a23-b647-a8860cc9bfc3"
      },
      "execution_count": 3,
      "outputs": [
        {
          "output_type": "stream",
          "name": "stdout",
          "text": [
            "\u001b[1m1/1\u001b[0m \u001b[32m━━━━━━━━━━━━━━━━━━━━\u001b[0m\u001b[37m\u001b[0m \u001b[1m2s\u001b[0m 2s/step\n",
            "Predicted Person: Sakshi\n",
            "Status: Genuine\n"
          ]
        }
      ]
    },
    {
      "cell_type": "markdown",
      "source": [
        "<h3>This will give you :\n",
        "\n",
        "1. Test loss + accuracy\n",
        "\n",
        "2. Classification reports (precision, recall, F1)\n",
        "\n",
        "3. Confusion matrix for forgery detection\n",
        "\n",
        "4. ROC curve + AUC for forgery detection"
      ],
      "metadata": {
        "id": "IlV_O4Kdf1sS"
      }
    },
    {
      "cell_type": "code",
      "source": [
        "import numpy as np\n",
        "import matplotlib.pyplot as plt\n",
        "import seaborn as sns\n",
        "from sklearn.metrics import classification_report, confusion_matrix, roc_curve, auc\n",
        "from tensorflow.keras.models import load_model\n",
        "\n",
        "# ---------------------------\n",
        "# Load dataset\n",
        "# ---------------------------\n",
        "data = np.load(\"signatures_dataset.npz\", allow_pickle=True)\n",
        "\n",
        "X = data[\"X\"]\n",
        "y_person_ids = data[\"person_ids\"]\n",
        "y_genuine = data[\"is_genuine\"]\n",
        "\n",
        "num_persons = len(np.unique(y_person_ids))\n",
        "\n",
        "# Train/test split (same as training!)\n",
        "from sklearn.model_selection import train_test_split\n",
        "from tensorflow.keras.utils import to_categorical\n",
        "\n",
        "y_persons_oh = to_categorical(y_person_ids - 1, num_classes=num_persons)\n",
        "y_genuine_oh = to_categorical(y_genuine, num_classes=2)\n",
        "\n",
        "X_train, X_test, y_persons_train, y_persons_test, y_genuine_train, y_genuine_test = train_test_split(\n",
        "    X, y_persons_oh, y_genuine_oh, test_size=0.2, random_state=42, stratify=y_person_ids\n",
        ")\n",
        "\n",
        "# ---------------------------\n",
        "# Load the saved model\n",
        "# ---------------------------\n",
        "model = load_model(\"signature_verification_model.h5\")\n",
        "\n",
        "# ---------------------------\n",
        "# Evaluate\n",
        "# ---------------------------\n",
        "print(\"🔹 Model Evaluation on Test Set\")\n",
        "eval_results = model.evaluate(X_test, {\"person_output\": y_persons_test, \"genuine_output\": y_genuine_test})\n",
        "print(eval_results)\n",
        "\n",
        "# ---------------------------\n",
        "# Predictions\n",
        "# ---------------------------\n",
        "y_pred_person, y_pred_genuine = model.predict(X_test)\n",
        "\n",
        "y_true_person = np.argmax(y_persons_test, axis=1)\n",
        "y_pred_person_cls = np.argmax(y_pred_person, axis=1)\n",
        "\n",
        "y_true_genuine = np.argmax(y_genuine_test, axis=1)\n",
        "y_pred_genuine_cls = np.argmax(y_pred_genuine, axis=1)\n",
        "\n",
        "# ---------------------------\n",
        "# Reports\n",
        "# ---------------------------\n",
        "print(\"\\n📌 Person Classification Report\")\n",
        "print(classification_report(y_true_person, y_pred_person_cls))\n",
        "\n",
        "print(\"\\n📌 Forgery Detection Report\")\n",
        "print(classification_report(y_true_genuine, y_pred_genuine_cls))\n",
        "\n",
        "# Confusion Matrix (Forgery)\n",
        "cm = confusion_matrix(y_true_genuine, y_pred_genuine_cls)\n",
        "plt.figure(figsize=(5,4))\n",
        "sns.heatmap(cm, annot=True, fmt=\"d\", cmap=\"Blues\", xticklabels=[\"Forged\",\"Genuine\"], yticklabels=[\"Forged\",\"Genuine\"])\n",
        "plt.title(\"Confusion Matrix - Forgery Detection\")\n",
        "plt.xlabel(\"Predicted\")\n",
        "plt.ylabel(\"True\")\n",
        "plt.show()\n",
        "\n",
        "# ---------------------------\n",
        "# ROC Curve (Forgery Detection)\n",
        "# ---------------------------\n",
        "fpr, tpr, thresholds = roc_curve(y_true_genuine, y_pred_genuine[:,1])  # class 1 = Genuine\n",
        "roc_auc = auc(fpr, tpr)\n",
        "\n",
        "plt.figure(figsize=(6,6))\n",
        "plt.plot(fpr, tpr, color=\"darkorange\", lw=2, label=f\"ROC curve (AUC = {roc_auc:.2f})\")\n",
        "plt.plot([0,1], [0,1], color=\"navy\", lw=2, linestyle=\"--\")\n",
        "plt.xlabel(\"False Positive Rate\")\n",
        "plt.ylabel(\"True Positive Rate\")\n",
        "plt.title(\"ROC Curve - Forgery Detection\")\n",
        "plt.legend(loc=\"lower right\")\n",
        "plt.show()\n"
      ],
      "metadata": {
        "colab": {
          "base_uri": "https://localhost:8080/",
          "height": 1000
        },
        "id": "LOFAI3l3faA9",
        "outputId": "6676c5af-9a83-463d-af5c-204da15b8028"
      },
      "execution_count": null,
      "outputs": [
        {
          "output_type": "stream",
          "name": "stderr",
          "text": [
            "WARNING:absl:Compiled the loaded model, but the compiled metrics have yet to be built. `model.compile_metrics` will be empty until you train or evaluate the model.\n"
          ]
        },
        {
          "output_type": "stream",
          "name": "stdout",
          "text": [
            "🔹 Model Evaluation on Test Set\n",
            "\u001b[1m17/17\u001b[0m \u001b[32m━━━━━━━━━━━━━━━━━━━━\u001b[0m\u001b[37m\u001b[0m \u001b[1m6s\u001b[0m 291ms/step - genuine_output_accuracy: 0.8993 - genuine_output_loss: 0.3324 - loss: 0.6061 - person_output_accuracy: 0.9030 - person_output_loss: 0.2771\n",
            "[0.690222978591919, 0.3487861156463623, 0.3730946183204651, 0.8901515007019043, 0.8901515007019043]\n",
            "\u001b[1m17/17\u001b[0m \u001b[32m━━━━━━━━━━━━━━━━━━━━\u001b[0m\u001b[37m\u001b[0m \u001b[1m7s\u001b[0m 384ms/step\n",
            "\n",
            "📌 Person Classification Report\n",
            "              precision    recall  f1-score   support\n",
            "\n",
            "           0       0.77      1.00      0.87        10\n",
            "           1       0.91      1.00      0.95        10\n",
            "           2       0.89      0.89      0.89         9\n",
            "           3       0.78      0.78      0.78         9\n",
            "           4       0.80      0.89      0.84         9\n",
            "           5       0.82      1.00      0.90         9\n",
            "           6       1.00      0.40      0.57        10\n",
            "           7       1.00      1.00      1.00         9\n",
            "           8       0.83      1.00      0.91        10\n",
            "           9       1.00      0.90      0.95        10\n",
            "          10       1.00      0.90      0.95        10\n",
            "          11       1.00      1.00      1.00         9\n",
            "          12       1.00      1.00      1.00         9\n",
            "          13       0.82      0.90      0.86        10\n",
            "          14       1.00      0.90      0.95        10\n",
            "          15       1.00      1.00      1.00        10\n",
            "          16       1.00      1.00      1.00         9\n",
            "          17       0.80      0.80      0.80        10\n",
            "          18       0.88      0.78      0.82         9\n",
            "          19       1.00      0.70      0.82        10\n",
            "          20       0.73      0.80      0.76        10\n",
            "          21       0.86      0.60      0.71        10\n",
            "          22       1.00      0.90      0.95        10\n",
            "          23       0.67      0.80      0.73        10\n",
            "          24       0.80      0.80      0.80        10\n",
            "          25       1.00      1.00      1.00         9\n",
            "          26       0.90      1.00      0.95         9\n",
            "          27       0.91      1.00      0.95        10\n",
            "          28       0.90      0.90      0.90        10\n",
            "          29       0.91      1.00      0.95        10\n",
            "          30       1.00      0.89      0.94         9\n",
            "          31       0.80      0.89      0.84         9\n",
            "          32       1.00      0.89      0.94         9\n",
            "          33       0.50      0.89      0.64         9\n",
            "          34       0.75      0.90      0.82        10\n",
            "          35       1.00      0.90      0.95        10\n",
            "          36       1.00      0.90      0.95        10\n",
            "          37       0.78      0.70      0.74        10\n",
            "          38       1.00      0.90      0.95        10\n",
            "          39       1.00      1.00      1.00        10\n",
            "          40       0.89      0.89      0.89         9\n",
            "          41       0.82      0.90      0.86        10\n",
            "          42       0.89      0.89      0.89         9\n",
            "          43       0.78      0.70      0.74        10\n",
            "          44       0.90      1.00      0.95         9\n",
            "          45       1.00      1.00      1.00         9\n",
            "          46       1.00      1.00      1.00         9\n",
            "          47       1.00      0.90      0.95        10\n",
            "          48       0.90      1.00      0.95         9\n",
            "          49       1.00      1.00      1.00        10\n",
            "          50       1.00      0.90      0.95        10\n",
            "          51       0.90      1.00      0.95         9\n",
            "          52       0.82      0.90      0.86        10\n",
            "          53       1.00      0.90      0.95        10\n",
            "          54       1.00      0.60      0.75        10\n",
            "\n",
            "    accuracy                           0.89       528\n",
            "   macro avg       0.90      0.89      0.89       528\n",
            "weighted avg       0.90      0.89      0.89       528\n",
            "\n",
            "\n",
            "📌 Forgery Detection Report\n",
            "              precision    recall  f1-score   support\n",
            "\n",
            "           0       0.86      0.93      0.89       260\n",
            "           1       0.92      0.85      0.89       268\n",
            "\n",
            "    accuracy                           0.89       528\n",
            "   macro avg       0.89      0.89      0.89       528\n",
            "weighted avg       0.89      0.89      0.89       528\n",
            "\n"
          ]
        },
        {
          "output_type": "display_data",
          "data": {
            "text/plain": [
              "<Figure size 500x400 with 2 Axes>"
            ],
            "image/png": "[encoded data removed]"
          },
          "metadata": {}
        },
        {
          "output_type": "display_data",
          "data": {
            "text/plain": [
              "<Figure size 600x600 with 1 Axes>"
            ],
            "image/png": "[encoded data removed]"
          },
          "metadata": {}
        }
      ]
    },
    {
      "cell_type": "markdown",
      "source": [
        "<h2> Gradio UI"
      ],
      "metadata": {
        "id": "8_axp6g1mEVQ"
      }
    },
    {
      "cell_type": "code",
      "source": [
        "import gradio as gr\n",
        "import numpy as np\n",
        "import pandas as pd\n",
        "from tensorflow.keras.models import load_model\n",
        "from PIL import Image\n",
        "\n",
        "# --------------------------\n",
        "# Load metadata.csv for mapping\n",
        "# --------------------------\n",
        "metadata = pd.read_csv(\"/metadata.csv\")\n",
        "metadata = metadata.drop_duplicates(subset=[\"person_id\"])\n",
        "person_name_map = dict(zip(metadata[\"person_id\"], metadata[\"person_name\"]))\n",
        "\n",
        "# --------------------------\n",
        "# Load model\n",
        "# --------------------------\n",
        "model = load_model(\"signature_verification_model.h5\")\n",
        "\n",
        "# --------------------------\n",
        "# Prediction function\n",
        "# --------------------------\n",
        "def predict_signature(image):\n",
        "    # Preprocess\n",
        "    img = image.convert(\"L\").resize((128, 128))\n",
        "    img = np.array(img) / 255.0\n",
        "    img = np.expand_dims(img, axis=(0, -1))\n",
        "\n",
        "    # Predictions\n",
        "    pred_person, pred_forgery = model.predict(img)\n",
        "\n",
        "    # Person Prediction\n",
        "    pred_person_idx = int(np.argmax(pred_person))\n",
        "    pred_person_name = person_name_map.get(pred_person_idx, f\"Unknown ID {pred_person_idx}\")\n",
        "\n",
        "    # Forgery Prediction\n",
        "    forgery_status = \"Genuine\" if np.argmax(pred_forgery) == 1 else \"Forged\"\n",
        "\n",
        "    # Final formatted output\n",
        "    result = f\"Person Name : {pred_person_name}\\nStatus      : {forgery_status}\"\n",
        "    return result\n",
        "\n",
        "# --------------------------\n",
        "# Gradio UI\n",
        "# --------------------------\n",
        "iface = gr.Interface(\n",
        "    fn=predict_signature,\n",
        "    inputs=gr.Image(type=\"pil\"),\n",
        "    outputs=gr.Textbox(label=\"Prediction Result\"),\n",
        "    title=\"Signature Verification\"\n",
        ")\n",
        "\n",
        "iface.launch()\n",
        "\n"
      ],
      "metadata": {
        "colab": {
          "base_uri": "https://localhost:8080/",
          "height": 663
        },
        "id": "hbfljSQfmW5H",
        "outputId": "29ca94c0-8b1d-4ad4-b053-a6dcf7d864bb"
      },
      "execution_count": 13,
      "outputs": [
        {
          "output_type": "stream",
          "name": "stderr",
          "text": [
            "WARNING:absl:Compiled the loaded model, but the compiled metrics have yet to be built. `model.compile_metrics` will be empty until you train or evaluate the model.\n"
          ]
        },
        {
          "output_type": "stream",
          "name": "stdout",
          "text": [
            "It looks like you are running Gradio on a hosted Jupyter notebook, which requires `share=True`. Automatically setting `share=True` (you can turn this off by setting `share=False` in `launch()` explicitly).\n",
            "\n",
            "Colab notebook detected. To show errors in colab notebook, set debug=True in launch()\n",
            "* Running on public URL: https://fa43d020ac2f307a6f.gradio.live\n",
            "\n",
            "This share link expires in 1 week. For free permanent hosting and GPU upgrades, run `gradio deploy` from the terminal in the working directory to deploy to Hugging Face Spaces (https://huggingface.co/spaces)\n"
          ]
        },
        {
          "output_type": "display_data",
          "data": {
            "text/plain": [
              "<IPython.core.display.HTML object>"
            ],
            "text/html": [
              "<div><iframe src=\"https://fa43d020ac2f307a6f.gradio.live\" width=\"100%\" height=\"500\" allow=\"autoplay; camera; microphone; clipboard-read; clipboard-write;\" frameborder=\"0\" allowfullscreen></iframe></div>"
            ]
          },
          "metadata": {}
        },
        {
          "output_type": "execute_result",
          "data": {
            "text/plain": []
          },
          "metadata": {},
          "execution_count": 13
        }
      ]
    }
  ],
  "metadata": {
    "accelerator": "GPU",
    "colab": {
      "gpuType": "T4",
      "provenance": []
    },
    "kernelspec": {
      "display_name": "Python 3",
      "name": "python3"
    },
    "language_info": {
      "name": "python"
    }
  },
  "nbformat": 4,
  "nbformat_minor": 0
}